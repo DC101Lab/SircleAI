{
 "cells": [
  {
   "cell_type": "markdown",
   "metadata": {},
   "source": [
    "# Basic Input/Output"
   ]
  },
  {
   "cell_type": "code",
   "execution_count": 1,
   "metadata": {},
   "outputs": [
    {
     "name": "stdout",
     "output_type": "stream",
     "text": [
      "Anu\n",
      "Anu\n"
     ]
    }
   ],
   "source": [
    "#input\n",
    "sesuatu = input()\n",
    "print(sesuatu)"
   ]
  },
  {
   "cell_type": "code",
   "execution_count": 2,
   "metadata": {},
   "outputs": [
    {
     "name": "stdout",
     "output_type": "stream",
     "text": [
      "Intan\n",
      "Salam Kenal, Intan\n"
     ]
    }
   ],
   "source": [
    "#Perkenalan\n",
    "nama = input()\n",
    "print(\"Salam Kenal, \"+nama)"
   ]
  },
  {
   "cell_type": "code",
   "execution_count": 5,
   "metadata": {},
   "outputs": [
    {
     "name": "stdout",
     "output_type": "stream",
     "text": [
      "9\n",
      "18\n"
     ]
    }
   ],
   "source": [
    "#InputAngka\n",
    "bilangan = int(input()) #int(), float()\n",
    "print(bilangan*2)"
   ]
  },
  {
   "cell_type": "markdown",
   "metadata": {},
   "source": [
    "# Lists, Perulangan"
   ]
  },
  {
   "cell_type": "code",
   "execution_count": 8,
   "metadata": {},
   "outputs": [
    {
     "name": "stdout",
     "output_type": "stream",
     "text": [
      "Intan\n",
      "Ovan\n",
      "['Intan', 'Ovan']\n",
      "OvanOvanOvan\n"
     ]
    }
   ],
   "source": [
    "#Deklarsi list kosong\n",
    "kosong = []\n",
    "\n",
    "#Ngisi nilai list kosong tadi\n",
    "nama = input()\n",
    "kosong.append(nama) #Pushback di vector C++11\n",
    "nama = input()\n",
    "kosong.append(nama)\n",
    "#Nampilin isi seluruh list\n",
    "print(kosong)\n",
    "\n",
    "#Namipilin isi pertama list\n",
    "print(kosong[1])"
   ]
  },
  {
   "cell_type": "code",
   "execution_count": 17,
   "metadata": {},
   "outputs": [
    {
     "name": "stdout",
     "output_type": "stream",
     "text": [
      "1\n",
      "3\n",
      "5\n",
      "7\n",
      "9\n",
      "11\n",
      "13\n",
      "15\n",
      "17\n",
      "19\n"
     ]
    }
   ],
   "source": [
    "#Perulangan dasar for i in range\n",
    "for i in range(0,10):\n",
    "    print((i*2)+1)"
   ]
  },
  {
   "cell_type": "code",
   "execution_count": 24,
   "metadata": {},
   "outputs": [
    {
     "name": "stdout",
     "output_type": "stream",
     "text": [
      "*\n",
      "**\n",
      "***\n"
     ]
    }
   ],
   "source": [
    "n = 3\n",
    "for i in range(1,n+1):\n",
    "    print(\"*\"*i)"
   ]
  },
  {
   "cell_type": "code",
   "execution_count": 18,
   "metadata": {},
   "outputs": [
    {
     "name": "stdout",
     "output_type": "stream",
     "text": [
      "01234"
     ]
    }
   ],
   "source": [
    "#Perulangan dasar for i in range, tapi rata\n",
    "for i in range(5):\n",
    "    print(i,end=\"\")"
   ]
  },
  {
   "cell_type": "code",
   "execution_count": 21,
   "metadata": {},
   "outputs": [
    {
     "name": "stdout",
     "output_type": "stream",
     "text": [
      "10\n",
      "9\n",
      "8\n",
      "7\n",
      "6\n",
      "5\n",
      "4\n",
      "3\n",
      "2\n",
      "1\n"
     ]
    }
   ],
   "source": [
    "i = 10\n",
    "while(i>0):\n",
    "    print(i)\n",
    "    i-=1"
   ]
  },
  {
   "cell_type": "code",
   "execution_count": 29,
   "metadata": {},
   "outputs": [
    {
     "name": "stdout",
     "output_type": "stream",
     "text": [
      "*\n",
      "**\n",
      "***\n",
      "**\n",
      "*\n",
      "\n"
     ]
    }
   ],
   "source": [
    "n = 3\n",
    "for i in range(1,n+1):\n",
    "    print(\"*\"*i)\n",
    "i = n\n",
    "while(i>0):\n",
    "    print((i-1)*\"*\")\n",
    "    i-=1"
   ]
  },
  {
   "cell_type": "markdown",
   "metadata": {},
   "source": [
    "### Challenge 1 :\n",
    "Bikin bintang begini :\n",
    "    * \n",
    "    ** \n",
    "    ***\n",
    "    ****\n",
    "    \n",
    "    ..... dst sampai dengan N\n",
    "    ..... N\n",
    "    ****\n",
    "    ***\n",
    "    **\n",
    "    *\n",
    "  \n",
    "Syarat, Loop cuma boleh 2"
   ]
  },
  {
   "cell_type": "code",
   "execution_count": 22,
   "metadata": {},
   "outputs": [
    {
     "name": "stdout",
     "output_type": "stream",
     "text": [
      "\n",
      "*\n",
      "**\n",
      "***\n",
      "****\n",
      "*****\n",
      "****\n",
      "***\n",
      "**\n",
      "*\n"
     ]
    }
   ],
   "source": [
    "au = 5\n",
    "for i in range(au):\n",
    "    print(\"*\"*i)\n",
    "for i in range(au):\n",
    "    print(\"*\"*(au-i))"
   ]
  },
  {
   "cell_type": "markdown",
   "metadata": {},
   "source": [
    "# Percabangan"
   ]
  },
  {
   "cell_type": "code",
   "execution_count": 36,
   "metadata": {},
   "outputs": [
    {
     "name": "stdout",
     "output_type": "stream",
     "text": [
      "Orang\n"
     ]
    }
   ],
   "source": [
    "n= 10\n",
    "if(n < 10):\n",
    "    print(\"Kucing\")\n",
    "elif(n > 10):\n",
    "    print(\"Anjink\")\n",
    "else:\n",
    "    print(\"Orang\")"
   ]
  },
  {
   "cell_type": "markdown",
   "metadata": {},
   "source": [
    "# Fungsi & Prosedur"
   ]
  },
  {
   "cell_type": "markdown",
   "metadata": {},
   "source": [
    "Fungsi vs Prosedur : \n",
    "\n",
    "Fungsi punya nilai balikan, prosedur kagak"
   ]
  },
  {
   "cell_type": "code",
   "execution_count": 38,
   "metadata": {},
   "outputs": [],
   "source": [
    "#Prosedur\n",
    "def hehe(n):\n",
    "    print(str(n)*n)\n",
    "\n",
    "#Fungsi\n",
    "def mwehe(x):\n",
    "    x=x*2+1\n",
    "    return x"
   ]
  },
  {
   "cell_type": "code",
   "execution_count": 39,
   "metadata": {},
   "outputs": [
    {
     "name": "stdout",
     "output_type": "stream",
     "text": [
      "333\n",
      "None\n"
     ]
    }
   ],
   "source": [
    "print(hehe(3))"
   ]
  },
  {
   "cell_type": "code",
   "execution_count": 26,
   "metadata": {},
   "outputs": [
    {
     "name": "stdout",
     "output_type": "stream",
     "text": [
      "1\n",
      "3\n",
      "5\n",
      "7\n",
      "9\n"
     ]
    }
   ],
   "source": [
    "for i in range(5):\n",
    "    print(mwehe(i))"
   ]
  },
  {
   "cell_type": "markdown",
   "metadata": {},
   "source": [
    "# Aritmatika dan Logika"
   ]
  },
  {
   "cell_type": "code",
   "execution_count": 31,
   "metadata": {},
   "outputs": [
    {
     "name": "stdout",
     "output_type": "stream",
     "text": [
      "2.5 6.0 2.4 2.0 2.0\n"
     ]
    }
   ],
   "source": [
    "a = 1.5 + 1 #Penjumlahan\n",
    "a = 1.5 - 1 #Pengurangan\n",
    "b = a * 2.4  #Perkalian\n",
    "c = b ** 0.5 #Pangkat\n",
    "c = b / a #Pembagian\n",
    "d = b // a #Pembagian trus di floor (div)\n",
    "e = d % b #Sisa bagi (mod)\n",
    "print(a,b,c,d,e)"
   ]
  },
  {
   "cell_type": "code",
   "execution_count": 40,
   "metadata": {},
   "outputs": [
    {
     "name": "stdout",
     "output_type": "stream",
     "text": [
      "True False True False True False\n"
     ]
    }
   ],
   "source": [
    "a = True \n",
    "b = False\n",
    "c = a or b #Or\n",
    "d = a and b #AND\n",
    "e = a ^ b #Xor\n",
    "f = not(c) #Invers\n",
    "print(a,b,c,d,e,f)"
   ]
  },
  {
   "cell_type": "code",
   "execution_count": 43,
   "metadata": {},
   "outputs": [
    {
     "name": "stdout",
     "output_type": "stream",
     "text": [
      "1\n"
     ]
    }
   ],
   "source": [
    "#Konversi Logika ke Angka\n",
    "a = True\n",
    "b = True\n",
    "c = (not((a and not(b)) or not(a))) * 1\n",
    "print(c)"
   ]
  },
  {
   "cell_type": "markdown",
   "metadata": {},
   "source": [
    "# Library"
   ]
  },
  {
   "cell_type": "code",
   "execution_count": 41,
   "metadata": {},
   "outputs": [],
   "source": [
    "import numpy as np\n",
    "#kita ngimport library numpy lalu direname jadi np\n",
    "\n",
    "from sklearn import preprocessing\n",
    "#Dari sklearn kita cuma import preprocessing, jadi ga 1 lib di ambil"
   ]
  },
  {
   "cell_type": "code",
   "execution_count": 47,
   "metadata": {},
   "outputs": [
    {
     "name": "stdout",
     "output_type": "stream",
     "text": [
      "4.0\n",
      "36.05551275463989\n"
     ]
    }
   ],
   "source": [
    "print(np.floor(np.log10(1321))+ 1)\n",
    "print(np.sqrt(1300))"
   ]
  },
  {
   "cell_type": "markdown",
   "metadata": {},
   "source": [
    "# Sekian, Terimakasih"
   ]
  }
 ],
 "metadata": {
  "kernelspec": {
   "display_name": "Python 3",
   "language": "python",
   "name": "python3"
  },
  "language_info": {
   "codemirror_mode": {
    "name": "ipython",
    "version": 3
   },
   "file_extension": ".py",
   "mimetype": "text/x-python",
   "name": "python",
   "nbconvert_exporter": "python",
   "pygments_lexer": "ipython3",
   "version": "3.6.5"
  }
 },
 "nbformat": 4,
 "nbformat_minor": 2
}
