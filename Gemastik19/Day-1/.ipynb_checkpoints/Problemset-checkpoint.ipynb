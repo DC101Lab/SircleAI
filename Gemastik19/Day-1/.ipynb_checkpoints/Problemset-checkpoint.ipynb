{
 "cells": [
  {
   "cell_type": "markdown",
   "metadata": {},
   "source": [
    "Pak dengklek mempunyai kumpulan angka-angka \n",
    "\n",
    "yang menarik, angka-angka tersebut terdiri dari N-digit dengan \n",
    "\n",
    "bilangan acak dengan bilangan acak adalah anggota bilangan positif. \n",
    "\n",
    "\n",
    "Pak dengklek kepo dengan angka-angka tersebut sehingga ia tertarik untuk mencari banyaknya angka 1 pada bilangan tersebut. \n",
    "\n",
    "Bantulah pak dengklek memuaskan rasa penasarannya !\n",
    "\n",
    "Note :\n",
    "1 memiliki 1 angka 1\n",
    "11 memiliki 2 angka 1\n",
    "121 memiliki 2 angka 1\n",
    "\n",
    "Gunakan np.random.randint(1,99999) sebagai input angka"
   ]
  },
  {
   "cell_type": "code",
   "execution_count": 12,
   "metadata": {},
   "outputs": [],
   "source": [
    "import numpy as np\n",
    "def BnykDigit(x):\n",
    "    x = int((np.floor(np.log10(x))) + 1)\n",
    "    return x\n",
    "\n",
    "def LastDigit(x):\n",
    "    x = x % 10\n",
    "    return x\n",
    "\n",
    "def Reduce(x):\n",
    "    x = x // 10\n",
    "    return x"
   ]
  },
  {
   "cell_type": "code",
   "execution_count": 19,
   "metadata": {
    "scrolled": true
   },
   "outputs": [
    {
     "name": "stdout",
     "output_type": "stream",
     "text": [
      "97862\n",
      "5\n",
      "2\n",
      "2\n",
      "2\n",
      "2\n",
      "2\n",
      "0\n"
     ]
    }
   ],
   "source": [
    "x = np.random.randint(1,99999)\n",
    "count = 0\n",
    "print(x)\n",
    "bnyk = BnykDigit(x)\n",
    "print(bnyk)\n",
    "for i in range(bnyk):\n",
    "    print(LastDigit(x))\n",
    "    if(LastDigit(x) == 1):\n",
    "        count+=1\n",
    "    Reduce(x)\n",
    "    \n",
    "print(count)\n"
   ]
  },
  {
   "cell_type": "code",
   "execution_count": null,
   "metadata": {},
   "outputs": [],
   "source": []
  },
  {
   "cell_type": "code",
   "execution_count": null,
   "metadata": {},
   "outputs": [],
   "source": []
  }
 ],
 "metadata": {
  "kernelspec": {
   "display_name": "Python 3",
   "language": "python",
   "name": "python3"
  },
  "language_info": {
   "codemirror_mode": {
    "name": "ipython",
    "version": 3
   },
   "file_extension": ".py",
   "mimetype": "text/x-python",
   "name": "python",
   "nbconvert_exporter": "python",
   "pygments_lexer": "ipython3",
   "version": "3.6.5"
  }
 },
 "nbformat": 4,
 "nbformat_minor": 2
}
