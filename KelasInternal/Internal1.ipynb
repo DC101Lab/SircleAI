{
 "cells": [
  {
   "cell_type": "markdown",
   "metadata": {},
   "source": [
    "## Import Library"
   ]
  },
  {
   "cell_type": "code",
   "execution_count": 124,
   "metadata": {},
   "outputs": [],
   "source": [
    "#Aljabar Linear\n",
    "import numpy as np\n",
    "\n",
    "#Dataframe\n",
    "import pandas as pd\n",
    "\n",
    "#plotting\n",
    "import matplotlib\n",
    "import matplotlib.pyplot as plt\n",
    "import seaborn as sns\n",
    "\n",
    "#Quandl\n",
    "import quandl"
   ]
  },
  {
   "cell_type": "markdown",
   "metadata": {},
   "source": [
    "## Ambil data dari Quandl"
   ]
  },
  {
   "cell_type": "code",
   "execution_count": 57,
   "metadata": {},
   "outputs": [
    {
     "data": {
      "text/html": [
       "<div>\n",
       "<style scoped>\n",
       "    .dataframe tbody tr th:only-of-type {\n",
       "        vertical-align: middle;\n",
       "    }\n",
       "\n",
       "    .dataframe tbody tr th {\n",
       "        vertical-align: top;\n",
       "    }\n",
       "\n",
       "    .dataframe thead th {\n",
       "        text-align: right;\n",
       "    }\n",
       "</style>\n",
       "<table border=\"1\" class=\"dataframe\">\n",
       "  <thead>\n",
       "    <tr style=\"text-align: right;\">\n",
       "      <th></th>\n",
       "      <th>High</th>\n",
       "      <th>Low</th>\n",
       "      <th>Mid</th>\n",
       "      <th>Last</th>\n",
       "      <th>Bid</th>\n",
       "      <th>Ask</th>\n",
       "      <th>Volume</th>\n",
       "    </tr>\n",
       "    <tr>\n",
       "      <th>Date</th>\n",
       "      <th></th>\n",
       "      <th></th>\n",
       "      <th></th>\n",
       "      <th></th>\n",
       "      <th></th>\n",
       "      <th></th>\n",
       "      <th></th>\n",
       "    </tr>\n",
       "  </thead>\n",
       "  <tbody>\n",
       "    <tr>\n",
       "      <th>2019-02-27</th>\n",
       "      <td>3934.0</td>\n",
       "      <td>3761.2</td>\n",
       "      <td>3901.95</td>\n",
       "      <td>3902.0</td>\n",
       "      <td>3901.9</td>\n",
       "      <td>3902.0</td>\n",
       "      <td>11955.109631</td>\n",
       "    </tr>\n",
       "    <tr>\n",
       "      <th>2019-02-28</th>\n",
       "      <td>3988.0</td>\n",
       "      <td>3875.0</td>\n",
       "      <td>3895.80</td>\n",
       "      <td>3895.0</td>\n",
       "      <td>3895.7</td>\n",
       "      <td>3895.9</td>\n",
       "      <td>12077.502286</td>\n",
       "    </tr>\n",
       "    <tr>\n",
       "      <th>2019-03-01</th>\n",
       "      <td>3949.0</td>\n",
       "      <td>3893.0</td>\n",
       "      <td>3923.05</td>\n",
       "      <td>3923.0</td>\n",
       "      <td>3923.0</td>\n",
       "      <td>3923.1</td>\n",
       "      <td>4708.990573</td>\n",
       "    </tr>\n",
       "  </tbody>\n",
       "</table>\n",
       "</div>"
      ],
      "text/plain": [
       "              High     Low      Mid    Last     Bid     Ask        Volume\n",
       "Date                                                                     \n",
       "2019-02-27  3934.0  3761.2  3901.95  3902.0  3901.9  3902.0  11955.109631\n",
       "2019-02-28  3988.0  3875.0  3895.80  3895.0  3895.7  3895.9  12077.502286\n",
       "2019-03-01  3949.0  3893.0  3923.05  3923.0  3923.0  3923.1   4708.990573"
      ]
     },
     "execution_count": 57,
     "metadata": {},
     "output_type": "execute_result"
    }
   ],
   "source": [
    "df = quandl.get(\"BITFINEX/BTCUSD\", authtoken=\"C5CQZuxZM7EbJvzMBGhm\")\n",
    "df.tail(3)"
   ]
  },
  {
   "cell_type": "markdown",
   "metadata": {},
   "source": [
    "# Data Preprocessing"
   ]
  },
  {
   "cell_type": "code",
   "execution_count": 58,
   "metadata": {},
   "outputs": [
    {
     "name": "stdout",
     "output_type": "stream",
     "text": [
      "<class 'pandas.core.frame.DataFrame'>\n",
      "DatetimeIndex: 1739 entries, 2014-04-15 to 2019-03-01\n",
      "Data columns (total 7 columns):\n",
      "High      1739 non-null float64\n",
      "Low       1739 non-null float64\n",
      "Mid       1739 non-null float64\n",
      "Last      1739 non-null float64\n",
      "Bid       1739 non-null float64\n",
      "Ask       1739 non-null float64\n",
      "Volume    1739 non-null float64\n",
      "dtypes: float64(7)\n",
      "memory usage: 108.7 KB\n"
     ]
    }
   ],
   "source": [
    "df.info()"
   ]
  },
  {
   "cell_type": "code",
   "execution_count": 59,
   "metadata": {},
   "outputs": [
    {
     "data": {
      "text/plain": [
       "High      0\n",
       "Low       0\n",
       "Mid       0\n",
       "Last      0\n",
       "Bid       0\n",
       "Ask       0\n",
       "Volume    0\n",
       "dtype: int64"
      ]
     },
     "execution_count": 59,
     "metadata": {},
     "output_type": "execute_result"
    }
   ],
   "source": [
    "df.isnull().sum()"
   ]
  },
  {
   "cell_type": "code",
   "execution_count": 60,
   "metadata": {},
   "outputs": [
    {
     "data": {
      "text/plain": [
       "<matplotlib.axes._subplots.AxesSubplot at 0x1f395e32198>"
      ]
     },
     "execution_count": 60,
     "metadata": {},
     "output_type": "execute_result"
    },
    {
     "data": {
      "image/png": "[encoded data removed]",
      "text/plain": [
       "<Figure size 432x288 with 2 Axes>"
      ]
     },
     "metadata": {},
     "output_type": "display_data"
    }
   ],
   "source": [
    "mask = np.zeros_like(df.corr(), dtype=np.bool)\n",
    "mask[np.triu_indices_from(mask)] = True\n",
    "f, ax = plt.subplots(figsize=(6,4))\n",
    "# Generate a custom diverging colormap\n",
    "cmap = sns.diverging_palette(220,10, as_cmap=True)\n",
    "sns.heatmap(df.corr(), mask=mask, cmap=cmap, vmax=.3, center=0,\n",
    "            square=True, linewidths=.5, cbar_kws={\"shrink\": .5})"
   ]
  },
  {
   "cell_type": "code",
   "execution_count": 61,
   "metadata": {},
   "outputs": [],
   "source": [
    "y =  df['Mid']\n",
    "x = df[['High','Low']]"
   ]
  },
  {
   "cell_type": "code",
   "execution_count": 62,
   "metadata": {},
   "outputs": [
    {
     "data": {
      "text/html": [
       "<div>\n",
       "<style scoped>\n",
       "    .dataframe tbody tr th:only-of-type {\n",
       "        vertical-align: middle;\n",
       "    }\n",
       "\n",
       "    .dataframe tbody tr th {\n",
       "        vertical-align: top;\n",
       "    }\n",
       "\n",
       "    .dataframe thead th {\n",
       "        text-align: right;\n",
       "    }\n",
       "</style>\n",
       "<table border=\"1\" class=\"dataframe\">\n",
       "  <thead>\n",
       "    <tr style=\"text-align: right;\">\n",
       "      <th></th>\n",
       "      <th>0</th>\n",
       "      <th>1</th>\n",
       "    </tr>\n",
       "  </thead>\n",
       "  <tbody>\n",
       "    <tr>\n",
       "      <th>0</th>\n",
       "      <td>0.025836</td>\n",
       "      <td>0.024272</td>\n",
       "    </tr>\n",
       "    <tr>\n",
       "      <th>1</th>\n",
       "      <td>0.027500</td>\n",
       "      <td>0.026581</td>\n",
       "    </tr>\n",
       "    <tr>\n",
       "      <th>2</th>\n",
       "      <td>0.027073</td>\n",
       "      <td>0.026104</td>\n",
       "    </tr>\n",
       "  </tbody>\n",
       "</table>\n",
       "</div>"
      ],
      "text/plain": [
       "          0         1\n",
       "0  0.025836  0.024272\n",
       "1  0.027500  0.026581\n",
       "2  0.027073  0.026104"
      ]
     },
     "execution_count": 62,
     "metadata": {},
     "output_type": "execute_result"
    }
   ],
   "source": [
    "\n",
    "\n",
    "\n",
    "from sklearn import preprocessing\n",
    "\n",
    "min_max_scaler = preprocessing.MinMaxScaler()\n",
    "np_scaled = min_max_scaler.fit_transform(x)\n",
    "x_normalized = pd.DataFrame(np_scaled)\n",
    "x_normalized.head(3)"
   ]
  },
  {
   "cell_type": "code",
   "execution_count": 63,
   "metadata": {},
   "outputs": [],
   "source": [
    "from sklearn.model_selection import train_test_split\n",
    "\n",
    "x_train, x_test, y_train, y_test = train_test_split(x_normalized, y, test_size=0.3, random_state=None)"
   ]
  },
  {
   "cell_type": "markdown",
   "metadata": {},
   "source": [
    "# Data Processing"
   ]
  },
  {
   "cell_type": "code",
   "execution_count": 64,
   "metadata": {},
   "outputs": [],
   "source": [
    "from sklearn import linear_model"
   ]
  },
  {
   "cell_type": "markdown",
   "metadata": {},
   "source": [
    "### Linear Regression"
   ]
  },
  {
   "cell_type": "code",
   "execution_count": 65,
   "metadata": {},
   "outputs": [],
   "source": [
    "LR_reg = linear_model.LinearRegression()\n",
    "LR_train = LR_reg.fit(x_train, y_train)"
   ]
  },
  {
   "cell_type": "code",
   "execution_count": 66,
   "metadata": {},
   "outputs": [],
   "source": [
    "LR_pred = LR_train.predict(x_test)"
   ]
  },
  {
   "cell_type": "code",
   "execution_count": 67,
   "metadata": {},
   "outputs": [
    {
     "data": {
      "text/plain": [
       "10231.511902651917"
      ]
     },
     "execution_count": 67,
     "metadata": {},
     "output_type": "execute_result"
    }
   ],
   "source": [
    "from sklearn.metrics import mean_squared_error\n",
    "mean_squared_error(y_test, LR_pred)"
   ]
  },
  {
   "cell_type": "code",
   "execution_count": 68,
   "metadata": {},
   "outputs": [
    {
     "data": {
      "text/plain": [
       "0.9991389514068603"
      ]
     },
     "execution_count": 68,
     "metadata": {},
     "output_type": "execute_result"
    }
   ],
   "source": [
    "from sklearn.metrics import r2_score\n",
    "\n",
    "r2_score(y_test, LR_pred)"
   ]
  },
  {
   "cell_type": "markdown",
   "metadata": {},
   "source": [
    "### Ridge"
   ]
  },
  {
   "cell_type": "code",
   "execution_count": 69,
   "metadata": {},
   "outputs": [],
   "source": [
    "RR_reg = linear_model.Ridge(alpha=.5)\n",
    "RR_train = RR_reg.fit(x_train, y_train)"
   ]
  },
  {
   "cell_type": "code",
   "execution_count": 70,
   "metadata": {},
   "outputs": [],
   "source": [
    "RR_pred = RR_train.predict(x_test)"
   ]
  },
  {
   "cell_type": "code",
   "execution_count": 71,
   "metadata": {},
   "outputs": [
    {
     "data": {
      "text/plain": [
       "9398.506996456581"
      ]
     },
     "execution_count": 71,
     "metadata": {},
     "output_type": "execute_result"
    }
   ],
   "source": [
    "mean_squared_error(y_test, RR_pred)"
   ]
  },
  {
   "cell_type": "code",
   "execution_count": 72,
   "metadata": {},
   "outputs": [
    {
     "data": {
      "text/plain": [
       "0.9991389514068603"
      ]
     },
     "execution_count": 72,
     "metadata": {},
     "output_type": "execute_result"
    }
   ],
   "source": [
    "r2_score(y_test, LR_pred)"
   ]
  },
  {
   "cell_type": "markdown",
   "metadata": {},
   "source": [
    "### RidgeCV"
   ]
  },
  {
   "cell_type": "code",
   "execution_count": 73,
   "metadata": {},
   "outputs": [],
   "source": [
    "RCV_reg = linear_model.RidgeCV(alphas=[0.1, 1.0, 10.0], cv=3)\n",
    "RCV_train = RCV_reg.fit(x_train, y_train)"
   ]
  },
  {
   "cell_type": "code",
   "execution_count": 74,
   "metadata": {},
   "outputs": [],
   "source": [
    "RCV_pred = RCV_train.predict(x_test)"
   ]
  },
  {
   "cell_type": "code",
   "execution_count": 75,
   "metadata": {},
   "outputs": [
    {
     "data": {
      "text/plain": [
       "9642.408496279873"
      ]
     },
     "execution_count": 75,
     "metadata": {},
     "output_type": "execute_result"
    }
   ],
   "source": [
    "mean_squared_error(y_test, RCV_pred)"
   ]
  },
  {
   "cell_type": "code",
   "execution_count": 76,
   "metadata": {},
   "outputs": [
    {
     "data": {
      "text/plain": [
       "0.9991389514068603"
      ]
     },
     "execution_count": 76,
     "metadata": {},
     "output_type": "execute_result"
    }
   ],
   "source": [
    "r2_score(y_test, LR_pred)"
   ]
  },
  {
   "cell_type": "markdown",
   "metadata": {},
   "source": [
    "### Elastic Net"
   ]
  },
  {
   "cell_type": "code",
   "execution_count": 85,
   "metadata": {},
   "outputs": [],
   "source": [
    "EN_reg = linear_model.ElasticNet(alpha=0.001)\n",
    "EN_train = EN_reg.fit(x_train, y_train)"
   ]
  },
  {
   "cell_type": "code",
   "execution_count": 86,
   "metadata": {},
   "outputs": [],
   "source": [
    "EN_pred = EN_train.predict(x_test)"
   ]
  },
  {
   "cell_type": "code",
   "execution_count": 87,
   "metadata": {},
   "outputs": [
    {
     "data": {
      "text/plain": [
       "9457.963830458964"
      ]
     },
     "execution_count": 87,
     "metadata": {},
     "output_type": "execute_result"
    }
   ],
   "source": [
    "mean_squared_error(y_test, EN_pred)"
   ]
  },
  {
   "cell_type": "code",
   "execution_count": 88,
   "metadata": {},
   "outputs": [
    {
     "data": {
      "text/plain": [
       "0.9992040505325442"
      ]
     },
     "execution_count": 88,
     "metadata": {},
     "output_type": "execute_result"
    }
   ],
   "source": [
    "r2_score(y_test, EN_pred)"
   ]
  },
  {
   "cell_type": "markdown",
   "metadata": {},
   "source": [
    "### Stochastic Gradient Descent"
   ]
  },
  {
   "cell_type": "code",
   "execution_count": 93,
   "metadata": {},
   "outputs": [],
   "source": [
    "SGD_reg = linear_model.SGDRegressor( alpha=0.0006, max_iter=1000)\n",
    "SGD_train = SGD_reg.fit(x_train, y_train)"
   ]
  },
  {
   "cell_type": "code",
   "execution_count": 94,
   "metadata": {},
   "outputs": [],
   "source": [
    "SGD_pred = SGD_train.predict(x_test)"
   ]
  },
  {
   "cell_type": "code",
   "execution_count": 95,
   "metadata": {},
   "outputs": [
    {
     "data": {
      "text/plain": [
       "9571.851308149542"
      ]
     },
     "execution_count": 95,
     "metadata": {},
     "output_type": "execute_result"
    }
   ],
   "source": [
    "mean_squared_error(y_test, SGD_pred)"
   ]
  },
  {
   "cell_type": "code",
   "execution_count": 96,
   "metadata": {},
   "outputs": [
    {
     "data": {
      "text/plain": [
       "0.9991944661570018"
      ]
     },
     "execution_count": 96,
     "metadata": {},
     "output_type": "execute_result"
    }
   ],
   "source": [
    "r2_score(y_test, SGD_pred)"
   ]
  },
  {
   "cell_type": "markdown",
   "metadata": {},
   "source": [
    "### Theil-Sen Regressor"
   ]
  },
  {
   "cell_type": "code",
   "execution_count": 97,
   "metadata": {},
   "outputs": [],
   "source": [
    "TR_reg = linear_model.TheilSenRegressor(max_iter=1000,tol=0.9)\n",
    "TR_train = TR_reg.fit(x_train, y_train)"
   ]
  },
  {
   "cell_type": "code",
   "execution_count": 98,
   "metadata": {},
   "outputs": [],
   "source": [
    "TR_pred = TR_train.predict(x_test)"
   ]
  },
  {
   "cell_type": "code",
   "execution_count": 99,
   "metadata": {},
   "outputs": [
    {
     "data": {
      "text/plain": [
       "9606.478977053477"
      ]
     },
     "execution_count": 99,
     "metadata": {},
     "output_type": "execute_result"
    }
   ],
   "source": [
    "mean_squared_error(y_test, TR_pred)"
   ]
  },
  {
   "cell_type": "code",
   "execution_count": 100,
   "metadata": {},
   "outputs": [
    {
     "data": {
      "text/plain": [
       "0.9991944661570018"
      ]
     },
     "execution_count": 100,
     "metadata": {},
     "output_type": "execute_result"
    }
   ],
   "source": [
    "r2_score(y_test, SGD_pred)"
   ]
  },
  {
   "cell_type": "markdown",
   "metadata": {},
   "source": [
    "# Postprocessing"
   ]
  },
  {
   "cell_type": "markdown",
   "metadata": {},
   "source": [
    "## Compare"
   ]
  },
  {
   "cell_type": "code",
   "execution_count": 131,
   "metadata": {},
   "outputs": [
    {
     "name": "stdout",
     "output_type": "stream",
     "text": [
      "LR: 10231.511903\n",
      "RR: 9398.506996\n",
      "RCV: 9642.408496\n",
      "EN: 9457.963830\n",
      "SGD: 9571.851308\n",
      "TR: 9606.478977\n"
     ]
    },
    {
     "data": {
      "image/png": "[encoded data removed]",
      "text/plain": [
       "<Figure size 432x288 with 1 Axes>"
      ]
     },
     "metadata": {},
     "output_type": "display_data"
    }
   ],
   "source": [
    "#models\n",
    "models = []\n",
    "models.append(('LR', LR_pred))\n",
    "models.append(('RR', RR_pred))\n",
    "models.append(('RCV', RCV_pred))\n",
    "models.append(('EN', EN_pred))\n",
    "models.append(('SGD', SGD_pred))\n",
    "models.append(('TR', TR_pred))\n",
    "              \n",
    "# evaluate each model in turn\n",
    "results = []\n",
    "names = []\n",
    "scoring = 'mse'\n",
    "for name, model in models:\n",
    "    mse_results = mean_squared_error(y_test, model)\n",
    "    results.append(mse_results)\n",
    "    names.append(name)\n",
    "    msg = \"%s: %f\" % (name, mse_results)\n",
    "    print(msg)\n",
    "# boxplot algorithm comparison\n",
    "fig = plt.figure()\n",
    "fig.suptitle('Algorithm Comparison')\n",
    "plt.ylabel('mse')\n",
    "plt.xlabel('Algorithm')\n",
    "plt.bar(names, results, color='red')\n",
    "ax.set_xticklabels(names)\n",
    "plt.show()"
   ]
  },
  {
   "cell_type": "markdown",
   "metadata": {},
   "source": [
    "### Prediksi vs Aktual"
   ]
  },
  {
   "cell_type": "code",
   "execution_count": 1,
   "metadata": {},
   "outputs": [
    {
     "ename": "NameError",
     "evalue": "name 'pd' is not defined",
     "output_type": "error",
     "traceback": [
      "\u001b[1;31m---------------------------------------------------------------------------\u001b[0m",
      "\u001b[1;31mNameError\u001b[0m                                 Traceback (most recent call last)",
      "\u001b[1;32m<ipython-input-1-8b2b6912bcf9>\u001b[0m in \u001b[0;36m<module>\u001b[1;34m()\u001b[0m\n\u001b[1;32m----> 1\u001b[1;33m \u001b[0mprediksi\u001b[0m \u001b[1;33m=\u001b[0m \u001b[0mpd\u001b[0m\u001b[1;33m.\u001b[0m\u001b[0mDataFrame\u001b[0m\u001b[1;33m(\u001b[0m\u001b[0mRR_pred\u001b[0m\u001b[1;33m,\u001b[0m\u001b[0mindex\u001b[0m\u001b[1;33m=\u001b[0m\u001b[0my_test\u001b[0m\u001b[1;33m.\u001b[0m\u001b[0mindex\u001b[0m\u001b[1;33m,\u001b[0m\u001b[0mcolumns\u001b[0m \u001b[1;33m=\u001b[0m \u001b[1;33m[\u001b[0m\u001b[1;34m'price'\u001b[0m\u001b[1;33m]\u001b[0m\u001b[1;33m)\u001b[0m\u001b[1;33m\u001b[0m\u001b[0m\n\u001b[0m\u001b[0;32m      2\u001b[0m \u001b[1;33m\u001b[0m\u001b[0m\n\u001b[0;32m      3\u001b[0m \u001b[0mprediksi\u001b[0m\u001b[1;33m.\u001b[0m\u001b[0mplot\u001b[0m\u001b[1;33m(\u001b[0m\u001b[0mfigsize\u001b[0m\u001b[1;33m=\u001b[0m\u001b[1;33m(\u001b[0m\u001b[1;36m15\u001b[0m\u001b[1;33m,\u001b[0m\u001b[1;36m8\u001b[0m\u001b[1;33m)\u001b[0m\u001b[1;33m,\u001b[0m\u001b[0mcolor\u001b[0m\u001b[1;33m=\u001b[0m\u001b[1;34m'red'\u001b[0m\u001b[1;33m)\u001b[0m\u001b[1;33m\u001b[0m\u001b[0m\n\u001b[0;32m      4\u001b[0m \u001b[0my_test\u001b[0m\u001b[1;33m.\u001b[0m\u001b[0mplot\u001b[0m\u001b[1;33m(\u001b[0m\u001b[0mcolor\u001b[0m\u001b[1;33m=\u001b[0m\u001b[1;34m'darkgreen'\u001b[0m\u001b[1;33m)\u001b[0m\u001b[1;33m\u001b[0m\u001b[0m\n\u001b[0;32m      5\u001b[0m \u001b[1;33m\u001b[0m\u001b[0m\n",
      "\u001b[1;31mNameError\u001b[0m: name 'pd' is not defined"
     ]
    }
   ],
   "source": [
    "prediksi = pd.DataFrame(RR_pred,index=y_test.index,columns = ['price']) \n",
    "\n",
    "prediksi.plot(figsize=(15,8),color='red')\n",
    "y_test.plot(color='darkgreen')\n",
    "\n",
    "plt.legend(['prediksi','aslinya'])\n",
    "\n",
    "plt.ylabel('Harga')\n",
    "plt.xlabel('Tahun')\n",
    "\n",
    "plt.show()"
   ]
  },
  {
   "cell_type": "markdown",
   "metadata": {},
   "source": [
    "## Simulasi Jual Beli"
   ]
  },
  {
   "cell_type": "code",
   "execution_count": 150,
   "metadata": {},
   "outputs": [],
   "source": [
    "aslisim = y_test.tail(60)\n",
    "prediksisim = prediksi.tail(60)\n",
    "window= 30"
   ]
  },
  {
   "cell_type": "code",
   "execution_count": 147,
   "metadata": {},
   "outputs": [
    {
     "name": "stdout",
     "output_type": "stream",
     "text": [
      "Transaksi 0\n",
      "harga =  7126.45 pred =  [7237.81901254] uang =  0 BTC =  0.014032232036988964\n",
      "====================================================================\n",
      "Transaksi 1\n",
      "harga =  8484.65 pred =  [8268.16361312] uang =  0 BTC =  0.014032232036988964\n",
      "====================================================================\n",
      "Transaksi 2\n",
      "harga =  236.275 pred =  [242.97170128] uang =  119.05857755263841 BTC =  0\n",
      "====================================================================\n",
      "Transaksi 3\n",
      "harga =  3710.05 pred =  [3732.61102439] uang =  0 BTC =  0.0320908283049119\n",
      "====================================================================\n",
      "Transaksi 4\n",
      "harga =  2808.55 pred =  [2817.20515324] uang =  0 BTC =  0.0320908283049119\n",
      "====================================================================\n",
      "Transaksi 5\n",
      "harga =  279.455 pred =  [290.8918748] uang =  0 BTC =  0.0320908283049119\n",
      "====================================================================\n",
      "Transaksi 6\n",
      "harga =  5714.95 pred =  [5681.35591711] uang =  0 BTC =  0.0320908283049119\n",
      "====================================================================\n",
      "Transaksi 7\n",
      "harga =  240.95 pred =  [251.04789307] uang =  183.3974792211563 BTC =  0\n",
      "====================================================================\n",
      "Transaksi 8\n",
      "harga =  7649.25 pred =  [7700.34367234] uang =  0 BTC =  0.023975877271779102\n",
      "====================================================================\n",
      "Transaksi 9\n",
      "harga =  257.795 pred =  [265.9115209] uang =  0 BTC =  0.023975877271779102\n",
      "====================================================================\n",
      "Transaksi 10\n",
      "harga =  10860.5 pred =  [10182.55792806] uang =  0 BTC =  0.023975877271779102\n",
      "====================================================================\n",
      "Transaksi 11\n",
      "harga =  641.545 pred =  [642.70963061] uang =  260.3900151101569 BTC =  0\n",
      "====================================================================\n",
      "Transaksi 12\n",
      "harga =  600.315 pred =  [610.70018006] uang =  0 BTC =  0.43375563680760415\n",
      "====================================================================\n",
      "Transaksi 13\n",
      "harga =  646.495 pred =  [659.55244389] uang =  0 BTC =  0.43375563680760415\n",
      "====================================================================\n",
      "Transaksi 14\n",
      "harga =  447.2 pred =  [453.02182136] uang =  0 BTC =  0.43375563680760415\n",
      "====================================================================\n",
      "Transaksi 15\n",
      "harga =  593.45 pred =  [605.04332191] uang =  0 BTC =  0.43375563680760415\n",
      "====================================================================\n",
      "Transaksi 16\n",
      "harga =  702.05 pred =  [708.47004893] uang =  0 BTC =  0.43375563680760415\n",
      "====================================================================\n",
      "Transaksi 17\n",
      "harga =  382.44 pred =  [390.97244157] uang =  0 BTC =  0.43375563680760415\n",
      "====================================================================\n",
      "Transaksi 18\n",
      "harga =  476.715 pred =  [486.56571609] uang =  0 BTC =  0.43375563680760415\n",
      "====================================================================\n",
      "Transaksi 19\n",
      "harga =  6866.05 pred =  [7011.86133428] uang =  0 BTC =  0.43375563680760415\n",
      "====================================================================\n",
      "Transaksi 20\n",
      "harga =  244.805 pred =  [255.01964352] uang =  0 BTC =  0.43375563680760415\n",
      "====================================================================\n",
      "Transaksi 21\n",
      "harga =  1238.65 pred =  [1234.78428223] uang =  0 BTC =  0.43375563680760415\n",
      "====================================================================\n",
      "Transaksi 22\n",
      "harga =  1813.95 pred =  [1756.71920238] uang =  0 BTC =  0.43375563680760415\n",
      "====================================================================\n",
      "Transaksi 23\n",
      "harga =  4298.85 pred =  [4339.79679556] uang =  786.8110373871535 BTC =  0\n",
      "====================================================================\n",
      "Transaksi 24\n",
      "harga =  563.96 pred =  [575.33555387] uang =  0 BTC =  1.3951539779189188\n",
      "====================================================================\n",
      "Transaksi 25\n",
      "harga =  3293.1 pred =  [3354.58406607] uang =  0 BTC =  1.3951539779189188\n",
      "====================================================================\n",
      "Transaksi 26\n",
      "harga =  663.005 pred =  [676.69058571] uang =  0 BTC =  1.3951539779189188\n",
      "====================================================================\n",
      "Transaksi 27\n",
      "harga =  512.58 pred =  [516.32280859] uang =  0 BTC =  1.3951539779189188\n",
      "====================================================================\n",
      "Transaksi 28\n",
      "harga =  220.48 pred =  [235.46705274] uang =  0 BTC =  1.3951539779189188\n",
      "====================================================================\n",
      "Transaksi 29\n",
      "harga =  606.975 pred =  [605.59879881] uang =  0 BTC =  1.3951539779189188\n",
      "====================================================================\n"
     ]
    }
   ],
   "source": [
    "a = aslisim.values\n",
    "p = prediksisim.values\n",
    "uang = []\n",
    "btc = []\n",
    "modal = 100\n",
    "for i in range(window):    \n",
    "    print(\"Transaksi\", i)\n",
    "    if (i<1):\n",
    "        uang.append(0)\n",
    "        u = uang[i]\n",
    "        beli_btc = modal/a[i]\n",
    "        btc.append(beli_btc)\n",
    "    elif (a[i-1]>p[(i-1)] and a[i]<p[i]):\n",
    "            jual_btc = btc[i-1]*a[i-1] \n",
    "            uang.append(jual_btc)\n",
    "            btc.append(0)\n",
    "            beli_btc = uang[i]/a[i+1]\n",
    "            \n",
    "                \n",
    "        else:\n",
    "            uang.append(0)\n",
    "            btc.append(beli_btc)\n",
    "    print(\"harga = \", a[i], \"pred = \",p[i], \"uang = \", uang[i], \"BTC = \", btc[i])\n",
    "    print(\"====================================================================\")"
   ]
  },
  {
   "cell_type": "code",
   "execution_count": 153,
   "metadata": {},
   "outputs": [
    {
     "name": "stdout",
     "output_type": "stream",
     "text": [
      "price =  606.975 pred =  [605.59879881] M =  0 BTC =  1.3951539779189188\n",
      "========================================\n",
      "Profit 746.8235857473358\n"
     ]
    }
   ],
   "source": [
    "print(\"price = \", a[window-1], \"pred = \",p[window-1], \"M = \", uang[window-1], \"BTC = \", btc[window-1])\n",
    "print(\"========================================\")\n",
    "print(\"Profit\", (a[window-1]*btc[window-1])-modal )"
   ]
  },
  {
   "cell_type": "markdown",
   "metadata": {},
   "source": [
    "## Prediksi harga besok"
   ]
  },
  {
   "cell_type": "code",
   "execution_count": 157,
   "metadata": {},
   "outputs": [
    {
     "name": "stdout",
     "output_type": "stream",
     "text": [
      "[651.32728292]\n"
     ]
    }
   ],
   "source": [
    "besok = RR_train.predict(x_test.tail(1))\n",
    "print(besok)"
   ]
  },
  {
   "cell_type": "code",
   "execution_count": null,
   "metadata": {},
   "outputs": [],
   "source": []
  }
 ],
 "metadata": {
  "kernelspec": {
   "display_name": "Python 3",
   "language": "python",
   "name": "python3"
  },
  "language_info": {
   "codemirror_mode": {
    "name": "ipython",
    "version": 3
   },
   "file_extension": ".py",
   "mimetype": "text/x-python",
   "name": "python",
   "nbconvert_exporter": "python",
   "pygments_lexer": "ipython3",
   "version": "3.6.5"
  }
 },
 "nbformat": 4,
 "nbformat_minor": 2
}
